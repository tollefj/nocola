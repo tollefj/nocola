{
 "cells": [
  {
   "cell_type": "code",
   "execution_count": 2,
   "metadata": {},
   "outputs": [],
   "source": [
    "import os\n",
    "\n",
    "splits = ['train', 'dev', 'test']\n",
    "path = \"datasets\"\n",
    "_id = \"NoCoLa_class_\"\n",
    "new_id = f\"{path}/nocola_\"\n",
    "\n",
    "for split in splits:\n",
    "    fp = os.path.join(path, f\"{_id}{split}.txt\")\n",
    "    gram_f = f\"{new_id}grammatical_{split}.txt\"\n",
    "    ungram_f = f\"{new_id}ungrammatical_{split}.txt\"\n",
    "    with open(fp, \"r\", encoding=\"utf-8\") as input_file, \\\n",
    "         open(gram_f, 'w', encoding=\"utf-8\") as grammatical_file, \\\n",
    "         open(ungram_f, 'w', encoding=\"utf-8\") as ungrammatical_file:\n",
    "\n",
    "        output_files = [None, ungrammatical_file, grammatical_file]\n",
    "\n",
    "        for line in input_file:\n",
    "            if line.startswith(\"Ungrammatical:\"):\n",
    "                output_index = 1\n",
    "            elif line.startswith(\"Grammatical:\"):\n",
    "                output_index = 2\n",
    "            elif line.strip():\n",
    "                output_files[output_index].write(line.strip() + '\\n')\n",
    "\n",
    "            "
   ]
  }
 ],
 "metadata": {
  "kernelspec": {
   "display_name": "tf",
   "language": "python",
   "name": "python3"
  },
  "language_info": {
   "codemirror_mode": {
    "name": "ipython",
    "version": 3
   },
   "file_extension": ".py",
   "mimetype": "text/x-python",
   "name": "python",
   "nbconvert_exporter": "python",
   "pygments_lexer": "ipython3",
   "version": "3.9.13"
  },
  "orig_nbformat": 4
 },
 "nbformat": 4,
 "nbformat_minor": 2
}
