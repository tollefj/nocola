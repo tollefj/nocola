{
 "cells": [
  {
   "cell_type": "code",
   "execution_count": 2,
   "metadata": {},
   "outputs": [],
   "source": [
    "from nocola_to_df import get_df\n",
    "\n",
    "# get df for all splits:\n",
    "train_df = get_df(split=\"train\")\n",
    "dev_df = get_df(split=\"dev\")\n",
    "test_df = get_df(split=\"test\")"
   ]
  },
  {
   "cell_type": "code",
   "execution_count": 3,
   "metadata": {},
   "outputs": [],
   "source": [
    "# from constants import error_mapping\n",
    "\n",
    "# class_labels = train_df.label.unique()\n",
    "# # Iterate over each class label\n",
    "# for label in class_labels:\n",
    "#     # Filter the dataframe for the current class label and retrieve a sample of 5 sentences\n",
    "#     class_samples = train_df[train_df.label == label].sample(5).text\n",
    "#     # Print the class label and the corresponding sentences\n",
    "#     print(label, \"---\", error_mapping[label])\n",
    "#     texts = class_samples.tolist()\n",
    "#     for i, text in enumerate(texts):\n",
    "#         print(f\"{i+1}. {text}\")\n",
    "#     print()"
   ]
  },
  {
   "cell_type": "code",
   "execution_count": 4,
   "metadata": {},
   "outputs": [],
   "source": [
    "# encode labels to numbers:\n",
    "from sklearn.preprocessing import LabelEncoder\n",
    "\n",
    "le = LabelEncoder()\n",
    "le.fit(train_df.label)\n",
    "train_df[\"label\"] = le.transform(train_df.label)\n",
    "dev_df[\"label\"] = le.transform(dev_df.label)\n",
    "test_df[\"label\"] = le.transform(test_df.label)"
   ]
  },
  {
   "cell_type": "code",
   "execution_count": 5,
   "metadata": {},
   "outputs": [
    {
     "data": {
      "text/plain": [
       "(1, 472)"
      ]
     },
     "execution_count": 5,
     "metadata": {},
     "output_type": "execute_result"
    }
   ],
   "source": [
    "# find the label name with the least amount of samples\n",
    "label_name = train_df.label.value_counts().idxmin()\n",
    "min_samples = train_df.label.value_counts().min()\n",
    "label_name, min_samples"
   ]
  },
  {
   "cell_type": "code",
   "execution_count": 6,
   "metadata": {},
   "outputs": [
    {
     "data": {
      "text/plain": [
       "label\n",
       "2     15231\n",
       "13    12614\n",
       "4     10491\n",
       "6      9955\n",
       "9      9705\n",
       "11     8250\n",
       "5      4752\n",
       "10     1876\n",
       "0      1632\n",
       "3      1356\n",
       "12     1160\n",
       "7      1070\n",
       "8       851\n",
       "1       472\n",
       "Name: count, dtype: int64"
      ]
     },
     "execution_count": 6,
     "metadata": {},
     "output_type": "execute_result"
    }
   ],
   "source": [
    "train_df.label.value_counts()"
   ]
  },
  {
   "cell_type": "code",
   "execution_count": 7,
   "metadata": {},
   "outputs": [],
   "source": [
    "import pandas as pd\n",
    "\n",
    "def get_reduced_dataframe(df, min_samples=8):\n",
    "    # proportion of each label, based on the minimum label\n",
    "    proportion = df.label.value_counts() / min_samples\n",
    "    # normalize it, so the lowest value is 1:\n",
    "    proportion = proportion  / proportion.min()\n",
    "    # multiply each by 8 (so that we ensure at least 8 samples)\n",
    "    proportion = proportion * min_samples\n",
    "    proportion = proportion.apply(round)\n",
    "    proportion = proportion.to_dict()\n",
    "    \n",
    "    subset_dfs = []\n",
    "    for label, desired_count in proportion.items():\n",
    "        label_df = df[df['label'] == label]\n",
    "        subset_dfs.append(label_df.sample(n=desired_count, random_state=42))\n",
    "    subset = pd.concat(subset_dfs, axis=0).reset_index(drop=True)\n",
    "    return subset\n",
    "\n",
    "subset_train = get_reduced_dataframe(train_df, min_samples=20)"
   ]
  },
  {
   "cell_type": "code",
   "execution_count": 8,
   "metadata": {},
   "outputs": [],
   "source": [
    "from datasets import Dataset\n",
    "\n",
    "dataset = Dataset.from_pandas(subset_train)\n",
    "dataset_test = Dataset.from_pandas(test_df)\n",
    "dataset_eval = Dataset.from_pandas(dev_df)"
   ]
  },
  {
   "cell_type": "code",
   "execution_count": 9,
   "metadata": {},
   "outputs": [
    {
     "data": {
      "text/plain": [
       "(3363, 2)"
      ]
     },
     "execution_count": 9,
     "metadata": {},
     "output_type": "execute_result"
    }
   ],
   "source": [
    "dataset.shape"
   ]
  },
  {
   "cell_type": "code",
   "execution_count": 32,
   "metadata": {},
   "outputs": [
    {
     "name": "stderr",
     "output_type": "stream",
     "text": [
      "model_head.pkl not found on HuggingFace Hub, initialising classification head with random weights. You should TRAIN this model on a downstream task to use it for predictions and inference.\n"
     ]
    }
   ],
   "source": [
    "from sentence_transformers.losses import CosineSimilarityLoss\n",
    "from setfit import SetFitModel, SetFitTrainer\n",
    "\n",
    "from models import SBERT_MODEL\n",
    "\n",
    "num_classes = len(dataset.unique(\"label\"))\n",
    "\n",
    "sfit_model = SetFitModel.from_pretrained(\n",
    "    SBERT_MODEL,\n",
    "    use_differentiable_head=True,\n",
    "    head_params={\"out_features\": num_classes},\n",
    ")\n",
    "#Note: If you use the differentiable SetFitHead classifier head, it will automatically use BCEWithLogitsLoss for training.\n",
    "# The prediction involves a sigmoid after which probabilities are rounded to 1 or 0.\n",
    "# Furthermore, the \"one-vs-rest\" and \"multi-output\" multi-target strategies are equivalent for the differentiable SetFitHead.\n"
   ]
  },
  {
   "cell_type": "code",
   "execution_count": 33,
   "metadata": {},
   "outputs": [
    {
     "data": {
      "text/plain": [
       "'2.1.0.dev20230412'"
      ]
     },
     "execution_count": 33,
     "metadata": {},
     "output_type": "execute_result"
    }
   ],
   "source": [
    "import torch\n",
    "torch.__version__"
   ]
  },
  {
   "cell_type": "code",
   "execution_count": 34,
   "metadata": {},
   "outputs": [
    {
     "data": {
      "text/plain": [
       "SetFitModel()"
      ]
     },
     "execution_count": 34,
     "metadata": {},
     "output_type": "execute_result"
    }
   ],
   "source": [
    "sfit_model.to(\"mps\")"
   ]
  },
  {
   "cell_type": "code",
   "execution_count": 35,
   "metadata": {},
   "outputs": [
    {
     "data": {
      "text/plain": [
       "{0, 1, 2, 3, 4, 5, 6, 7, 8, 9, 10, 11, 12, 13}"
      ]
     },
     "execution_count": 35,
     "metadata": {},
     "output_type": "execute_result"
    }
   ],
   "source": [
    "set(dataset[\"label\"])"
   ]
  },
  {
   "cell_type": "code",
   "execution_count": 36,
   "metadata": {},
   "outputs": [
    {
     "data": {
      "application/vnd.jupyter.widget-view+json": {
       "model_id": "cf0aa8402e5b4f2ab26c3cf79198e691",
       "version_major": 2,
       "version_minor": 0
      },
      "text/plain": [
       "Generating Training Pairs:   0%|          | 0/20 [00:00<?, ?it/s]"
      ]
     },
     "metadata": {},
     "output_type": "display_data"
    },
    {
     "name": "stderr",
     "output_type": "stream",
     "text": [
      "***** Running training *****\n",
      "  Num examples = 134520\n",
      "  Num epochs = 1\n",
      "  Total optimization steps = 8408\n",
      "  Total train batch size = 16\n"
     ]
    },
    {
     "data": {
      "application/vnd.jupyter.widget-view+json": {
       "model_id": "1be073ee83ae4636ad34e4bf47faf4ac",
       "version_major": 2,
       "version_minor": 0
      },
      "text/plain": [
       "Epoch:   0%|          | 0/1 [00:00<?, ?it/s]"
      ]
     },
     "metadata": {},
     "output_type": "display_data"
    },
    {
     "data": {
      "application/vnd.jupyter.widget-view+json": {
       "model_id": "92fd86148f3841cab2584c6ac93a2343",
       "version_major": 2,
       "version_minor": 0
      },
      "text/plain": [
       "Iteration:   0%|          | 0/8408 [00:00<?, ?it/s]"
      ]
     },
     "metadata": {},
     "output_type": "display_data"
    }
   ],
   "source": [
    "# Create trainer\n",
    "trainer = SetFitTrainer(\n",
    "    model=sfit_model,\n",
    "    train_dataset=dataset,\n",
    "    eval_dataset=dataset_eval,\n",
    "    loss_class=CosineSimilarityLoss,\n",
    "    metric=\"accuracy\",\n",
    "    batch_size=16,\n",
    "    num_iterations=20, # Number of text pairs to generate for contrastive learning\n",
    "    num_epochs=1, # Number of epochs to use for contrastive learning\n",
    ")\n",
    "trainer.freeze()\n",
    "trainer.train()"
   ]
  },
  {
   "cell_type": "code",
   "execution_count": null,
   "metadata": {},
   "outputs": [],
   "source": [
    "trainer.unfreeze(keep_body_frozen=True)\n",
    "trainer.train(\n",
    "    num_epochs=25,\n",
    "    batch_size=16,\n",
    "    body_learning_rate=1e-5,  # LR of body\n",
    "    learning_rate=1e-2,  # LR of head\n",
    "    l2_weight=0.0\n",
    ")"
   ]
  },
  {
   "cell_type": "code",
   "execution_count": 48,
   "metadata": {},
   "outputs": [
    {
     "name": "stderr",
     "output_type": "stream",
     "text": [
      "***** Running evaluation *****\n"
     ]
    }
   ],
   "source": [
    "metrics = trainer.evaluate()"
   ]
  },
  {
   "cell_type": "code",
   "execution_count": 49,
   "metadata": {},
   "outputs": [
    {
     "data": {
      "text/plain": [
       "{'accuracy': 0.19243119266055045}"
      ]
     },
     "execution_count": 49,
     "metadata": {},
     "output_type": "execute_result"
    }
   ],
   "source": [
    "metrics"
   ]
  },
  {
   "cell_type": "code",
   "execution_count": 51,
   "metadata": {},
   "outputs": [
    {
     "data": {
      "text/plain": [
       "tensor([2, 6])"
      ]
     },
     "execution_count": 51,
     "metadata": {},
     "output_type": "execute_result"
    }
   ],
   "source": [
    "preds = sfit_model([\"i loved the spiderman movie!\", \"pineapple on pizza is the worst 🤮\"])\n",
    "preds"
   ]
  },
  {
   "cell_type": "code",
   "execution_count": 52,
   "metadata": {},
   "outputs": [
    {
     "data": {
      "text/plain": [
       "array(['F', 'ORT'], dtype=object)"
      ]
     },
     "execution_count": 52,
     "metadata": {},
     "output_type": "execute_result"
    }
   ],
   "source": [
    "le.inverse_transform(preds)"
   ]
  }
 ],
 "metadata": {
  "kernelspec": {
   "display_name": "CRAC23",
   "language": "python",
   "name": "python3"
  },
  "language_info": {
   "codemirror_mode": {
    "name": "ipython",
    "version": 3
   },
   "file_extension": ".py",
   "mimetype": "text/x-python",
   "name": "python",
   "nbconvert_exporter": "python",
   "pygments_lexer": "ipython3",
   "version": "3.9.16"
  },
  "orig_nbformat": 4
 },
 "nbformat": 4,
 "nbformat_minor": 2
}
